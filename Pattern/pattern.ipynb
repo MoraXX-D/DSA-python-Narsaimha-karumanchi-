{
 "cells": [
  {
   "cell_type": "markdown",
   "id": "28927755-b592-48c9-8592-85a5aca9cdf7",
   "metadata": {},
   "source": [
    "# 1 2 3 4\n",
    "# 1 2 3 4\n",
    "# 1 2 3 4\n",
    "# 1 2 3 4"
   ]
  },
  {
   "cell_type": "code",
   "execution_count": 9,
   "id": "9470a8ec",
   "metadata": {},
   "outputs": [
    {
     "name": "stdout",
     "output_type": "stream",
     "text": [
      "1 2 3 4 \n",
      "1 2 3 4 \n",
      "1 2 3 4 \n",
      "1 2 3 4 \n"
     ]
    }
   ],
   "source": [
    "i = 1\n",
    "while i <= 4:\n",
    "    j = 1\n",
    "    while j <= 4:\n",
    "        print(j, end = \" \")\n",
    "        j += 1\n",
    "    print(\"\")\n",
    "    i += 1"
   ]
  },
  {
   "cell_type": "markdown",
   "id": "01bb68b4",
   "metadata": {},
   "source": [
    "# 3 2 1\n",
    "# 3 2 1\n",
    "# 3 2 1"
   ]
  },
  {
   "cell_type": "code",
   "execution_count": 10,
   "id": "e9d02806",
   "metadata": {},
   "outputs": [
    {
     "name": "stdout",
     "output_type": "stream",
     "text": [
      "3 2 1 \n",
      "3 2 1 \n",
      "3 2 1 \n"
     ]
    }
   ],
   "source": [
    "row = int(input(\"Enter the number of row\"))\n",
    "col = int(input(\"Enter the number of coloumn\"))\n",
    "\n",
    "i =1\n",
    "\n",
    "while i <= row:\n",
    "    j = col\n",
    "    while j >= 1:\n",
    "        print(j, end=' ')\n",
    "        j -= 1\n",
    "    print(\"\")\n",
    "    i += 1"
   ]
  },
  {
   "cell_type": "markdown",
   "id": "f6451ba8",
   "metadata": {},
   "source": [
    "# 1 2 3\n",
    "# 4 5 6\n",
    "# 7 8 9"
   ]
  },
  {
   "cell_type": "code",
   "execution_count": 11,
   "id": "cd77d522",
   "metadata": {},
   "outputs": [
    {
     "name": "stdout",
     "output_type": "stream",
     "text": [
      "1 2 3 4 \n",
      "5 6 7 8 \n",
      "9 10 11 12 \n",
      "13 14 15 16 \n"
     ]
    }
   ],
   "source": [
    "row = int(input(\"Enter the number of row\"))\n",
    "col = int(input(\"Enter the number of coloumn\"))\n",
    "\n",
    "i = 1\n",
    "count = 1\n",
    "while(i<=row):\n",
    "    j = 1\n",
    "    while(j <= col):\n",
    "        print(count, end=' ')\n",
    "        count += 1\n",
    "        j += 1\n",
    "    print('')    \n",
    "    i += 1"
   ]
  },
  {
   "cell_type": "markdown",
   "id": "ea89470c",
   "metadata": {},
   "source": [
    "# *\n",
    "# * *\n",
    "# * * *\n",
    "# * * * *"
   ]
  },
  {
   "cell_type": "code",
   "execution_count": 12,
   "id": "71632806",
   "metadata": {},
   "outputs": [
    {
     "name": "stdout",
     "output_type": "stream",
     "text": [
      "* \n",
      "* * \n",
      "* * * \n",
      "* * * * \n"
     ]
    }
   ],
   "source": [
    "row = int(input(\"Enter the number of row\"))\n",
    "\n",
    "i = 1\n",
    "\n",
    "while i <= row:\n",
    "    j = 1\n",
    "    while j <= i:\n",
    "        print('*',end=' ')\n",
    "        j+=1\n",
    "    print('')\n",
    "    i += 1\n",
    "\n",
    "\n"
   ]
  },
  {
   "cell_type": "markdown",
   "id": "70ee93fa",
   "metadata": {},
   "source": [
    "# 1 \n",
    "# 2 2\n",
    "# 3 3 3\n",
    "# 4 4 4 4"
   ]
  },
  {
   "cell_type": "code",
   "execution_count": 13,
   "id": "6e286c31",
   "metadata": {},
   "outputs": [
    {
     "name": "stdout",
     "output_type": "stream",
     "text": [
      "1 \n",
      "2 2 \n",
      "3 3 3 \n",
      "4 4 4 4 \n"
     ]
    }
   ],
   "source": [
    "row = int(input(\"Enter the number of row\"))\n",
    "\n",
    "i = 1\n",
    "\n",
    "while i <= row:\n",
    "    j = 1\n",
    "    while j <= i:\n",
    "        print(i,end=' ')\n",
    "        j+=1\n",
    "    print('')\n",
    "    i += 1"
   ]
  },
  {
   "cell_type": "markdown",
   "id": "6d39164c",
   "metadata": {},
   "source": [
    "# 1\n",
    "# 2 3\n",
    "# 4 5 6\n",
    "# 7 8 9 10"
   ]
  },
  {
   "cell_type": "code",
   "execution_count": 14,
   "id": "b526541a",
   "metadata": {},
   "outputs": [
    {
     "name": "stdout",
     "output_type": "stream",
     "text": [
      "1 \n",
      "2 3 \n",
      "4 5 6 \n",
      "7 8 9 10 \n"
     ]
    }
   ],
   "source": [
    "row = int(input(\"Enter the number of row\"))\n",
    "\n",
    "i = 1\n",
    "count = 1\n",
    "\n",
    "while i <= row:\n",
    "    j = 1\n",
    "    while j <= i:\n",
    "        print(count,end=' ')\n",
    "        count +=1\n",
    "        j+=1\n",
    "    print('')\n",
    "    i += 1"
   ]
  },
  {
   "cell_type": "markdown",
   "id": "bf3fbc27",
   "metadata": {},
   "source": [
    "# 1 \n",
    "# 2 3 \n",
    "# 3 4 5 \n",
    "# 4 5 6 7 "
   ]
  },
  {
   "cell_type": "code",
   "execution_count": 15,
   "id": "9cde705e",
   "metadata": {},
   "outputs": [
    {
     "name": "stdout",
     "output_type": "stream",
     "text": [
      "1 \n",
      "2 3 \n",
      "3 4 5 \n",
      "4 5 6 7 \n"
     ]
    }
   ],
   "source": [
    "n = int(input(\"Enter the number of row\"))\n",
    "\n",
    "row = 1\n",
    "\n",
    "while row <= n:\n",
    "    j = 1\n",
    "    # value = row\n",
    "    while j <= row:\n",
    "        print(row + j -1,end=' ')\n",
    "        # value +=1\n",
    "        j+=1\n",
    "    print('')\n",
    "    row += 1"
   ]
  },
  {
   "cell_type": "markdown",
   "id": "0d1c2b53",
   "metadata": {},
   "source": [
    "# 1\n",
    "# 2 1\n",
    "# 3 2 1\n",
    "# 4 3 2 1"
   ]
  },
  {
   "cell_type": "code",
   "execution_count": 16,
   "id": "bc242f54",
   "metadata": {},
   "outputs": [
    {
     "ename": "ValueError",
     "evalue": "invalid literal for int() with base 10: ''",
     "output_type": "error",
     "traceback": [
      "\u001b[1;31m---------------------------------------------------------------------------\u001b[0m",
      "\u001b[1;31mValueError\u001b[0m                                Traceback (most recent call last)",
      "Cell \u001b[1;32mIn[16], line 1\u001b[0m\n\u001b[1;32m----> 1\u001b[0m n \u001b[38;5;241m=\u001b[39m \u001b[38;5;28;43mint\u001b[39;49m\u001b[43m(\u001b[49m\u001b[38;5;28;43minput\u001b[39;49m\u001b[43m(\u001b[49m\u001b[38;5;124;43m\"\u001b[39;49m\u001b[38;5;124;43mEnter the number of row\u001b[39;49m\u001b[38;5;124;43m\"\u001b[39;49m\u001b[43m)\u001b[49m\u001b[43m)\u001b[49m\n\u001b[0;32m      3\u001b[0m row \u001b[38;5;241m=\u001b[39m \u001b[38;5;241m1\u001b[39m\n\u001b[0;32m      5\u001b[0m \u001b[38;5;28;01mwhile\u001b[39;00m row \u001b[38;5;241m<\u001b[39m\u001b[38;5;241m=\u001b[39m n:\n",
      "\u001b[1;31mValueError\u001b[0m: invalid literal for int() with base 10: ''"
     ]
    }
   ],
   "source": [
    "n = int(input(\"Enter the number of row\"))\n",
    "\n",
    "row = 1\n",
    "\n",
    "while row <= n:\n",
    "    col = 1\n",
    "    while col <= row:\n",
    "        print(row - col +1,end=' ')\n",
    "        col += 1\n",
    "    print('')\n",
    "    row += 1"
   ]
  },
  {
   "cell_type": "markdown",
   "id": "3e66e3df",
   "metadata": {},
   "source": [
    "# A B C D\n",
    "# A B C D\n",
    "# A B C D\n",
    "# A B C D\n"
   ]
  },
  {
   "cell_type": "code",
   "execution_count": null,
   "id": "89d757c8",
   "metadata": {},
   "outputs": [
    {
     "name": "stdout",
     "output_type": "stream",
     "text": [
      "A B C D \n",
      "A B C D \n",
      "A B C D \n",
      "A B C D \n"
     ]
    }
   ],
   "source": [
    "rows = int(input('Enter the number of rows'))\n",
    "\n",
    "i = 1\n",
    "while i <= rows:\n",
    "    j=0\n",
    "    while j<rows:\n",
    "        print(chr(65+j), end=\" \")\n",
    "        j+=1\n",
    "    print(\"\")\n",
    "    i+=1"
   ]
  },
  {
   "cell_type": "markdown",
   "id": "33e9836a",
   "metadata": {},
   "source": [
    "# A B C \n",
    "# E F G\n",
    "# H I J"
   ]
  },
  {
   "cell_type": "code",
   "execution_count": null,
   "id": "045b0721",
   "metadata": {},
   "outputs": [
    {
     "name": "stdout",
     "output_type": "stream",
     "text": [
      "A B C \n",
      "D E F \n",
      "G H I \n"
     ]
    }
   ],
   "source": [
    "rows = int(input(\"Enter the no of rows\"))\n",
    "\n",
    "i = 1\n",
    "count = 0\n",
    "\n",
    "while i <= rows:\n",
    "    j = 0\n",
    "    while j<rows:\n",
    "        print(chr(65 + count), end=\" \")\n",
    "        count +=1\n",
    "        j+=1\n",
    "    print('')\n",
    "    i += 1"
   ]
  },
  {
   "cell_type": "markdown",
   "id": "d420f2c1",
   "metadata": {},
   "source": [
    "# A B C  \n",
    "# B C D\n",
    "# C D E"
   ]
  },
  {
   "cell_type": "code",
   "execution_count": null,
   "id": "10839717",
   "metadata": {},
   "outputs": [
    {
     "name": "stdout",
     "output_type": "stream",
     "text": [
      "A B C \n",
      "B C D \n",
      "C D E \n"
     ]
    }
   ],
   "source": [
    "rows = int(input(\"Enter the no of rows\"))\n",
    "\n",
    "i = 1\n",
    "\n",
    "while i <= rows:\n",
    "    j = 0\n",
    "    while j< rows:\n",
    "        print(chr(65 +(i+j-1)), end=\" \")\n",
    "        j += 1\n",
    "    print(\"\")\n",
    "    i += 1\n",
    "    \n"
   ]
  },
  {
   "cell_type": "markdown",
   "id": "7a16b0b0",
   "metadata": {},
   "source": [
    "# A\n",
    "# B C\n",
    "# C D E\n",
    "# D E F G"
   ]
  },
  {
   "cell_type": "code",
   "execution_count": null,
   "id": "c7f89cdb",
   "metadata": {},
   "outputs": [
    {
     "name": "stdout",
     "output_type": "stream",
     "text": [
      "A \n",
      "B C \n",
      "C D E \n",
      "D E F G \n"
     ]
    }
   ],
   "source": [
    "rows = int(input(\"Enter the no of rows\"))\n",
    "i = 1\n",
    "\n",
    "while i <= rows:\n",
    "    j=0\n",
    "    while j < i:\n",
    "        print(chr(65 + (i + j - 1)), end=\" \")\n",
    "        j += 1\n",
    "    print('')\n",
    "    i+=1"
   ]
  },
  {
   "cell_type": "code",
   "execution_count": 20,
   "id": "c5600d8d",
   "metadata": {},
   "outputs": [
    {
     "name": "stdout",
     "output_type": "stream",
     "text": [
      "0 1 1 2 3 5 8 13 21 34 55 89 144 "
     ]
    }
   ],
   "source": [
    "a = 0\n",
    "b = 1\n",
    "print(str(a) + \" \", end=str(b)+\" \")\n",
    "for num in range(11):\n",
    "    nextNumber = a+b\n",
    "    print(nextNumber, end=\" \")\n",
    "    a = b\n",
    "    b = nextNumber\n"
   ]
  },
  {
   "cell_type": "code",
   "execution_count": null,
   "id": "3b847320",
   "metadata": {},
   "outputs": [],
   "source": [
    "n = 256\n",
    "ar = [1,2,3,4]\n"
   ]
  }
 ],
 "metadata": {
  "kernelspec": {
   "display_name": "Python 3",
   "language": "python",
   "name": "python3"
  },
  "language_info": {
   "codemirror_mode": {
    "name": "ipython",
    "version": 3
   },
   "file_extension": ".py",
   "mimetype": "text/x-python",
   "name": "python",
   "nbconvert_exporter": "python",
   "pygments_lexer": "ipython3",
   "version": "3.11.3"
  }
 },
 "nbformat": 4,
 "nbformat_minor": 5
}
