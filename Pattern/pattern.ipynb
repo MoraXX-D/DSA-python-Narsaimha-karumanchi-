{
 "cells": [
  {
   "cell_type": "markdown",
   "id": "28927755-b592-48c9-8592-85a5aca9cdf7",
   "metadata": {},
   "source": [
    "# 1 2 3 4\n",
    "# 1 2 3 4\n",
    "# 1 2 3 4\n",
    "# 1 2 3 4"
   ]
  },
  {
   "cell_type": "code",
   "execution_count": null,
   "id": "9470a8ec",
   "metadata": {},
   "outputs": [],
   "source": [
    "i = 1\n",
    "while i <= 4:\n",
    "    j = 1\n",
    "    while j <= 4:\n",
    "        print(j, end = \" \")\n",
    "        j += 1\n",
    "    print(\"\")\n",
    "    i += 1"
   ]
  },
  {
   "cell_type": "markdown",
   "id": "01bb68b4",
   "metadata": {},
   "source": [
    "# 3 2 1\n",
    "# 3 2 1\n",
    "# 3 2 1"
   ]
  },
  {
   "cell_type": "code",
   "execution_count": 15,
   "id": "e9d02806",
   "metadata": {},
   "outputs": [
    {
     "name": "stdout",
     "output_type": "stream",
     "text": [
      "7 6 5 4 3 2 1 \n",
      "7 6 5 4 3 2 1 \n",
      "7 6 5 4 3 2 1 \n",
      "7 6 5 4 3 2 1 \n",
      "7 6 5 4 3 2 1 \n"
     ]
    }
   ],
   "source": [
    "row = int(input(\"Enter the number of row\"))\n",
    "col = int(input(\"Enter the number of coloumn\"))\n",
    "\n",
    "i =1\n",
    "\n",
    "while i <= row:\n",
    "    j = col\n",
    "    while j >= 1:\n",
    "        print(j, end=' ')\n",
    "        j -= 1\n",
    "    print(\"\")\n",
    "    i += 1"
   ]
  },
  {
   "cell_type": "markdown",
   "id": "f6451ba8",
   "metadata": {},
   "source": [
    "# 1 2 3\n",
    "# 4 5 6\n",
    "# 7 8 9"
   ]
  },
  {
   "cell_type": "code",
   "execution_count": 19,
   "id": "cd77d522",
   "metadata": {},
   "outputs": [
    {
     "name": "stdout",
     "output_type": "stream",
     "text": [
      "1 2 3 \n",
      "4 5 6 \n",
      "7 8 9 \n"
     ]
    }
   ],
   "source": [
    "row = int(input(\"Enter the number of row\"))\n",
    "col = int(input(\"Enter the number of coloumn\"))\n",
    "\n",
    "i = 1\n",
    "count = 1\n",
    "while(i<=row):\n",
    "    j = 1\n",
    "    while(j <= col):\n",
    "        print(count, end=' ')\n",
    "        count += 1\n",
    "        j += 1\n",
    "    print('')    \n",
    "    i += 1"
   ]
  },
  {
   "cell_type": "markdown",
   "id": "ea89470c",
   "metadata": {},
   "source": [
    "# *\n",
    "# * *\n",
    "# * * *\n",
    "# * * * *"
   ]
  },
  {
   "cell_type": "code",
   "execution_count": 21,
   "id": "71632806",
   "metadata": {},
   "outputs": [
    {
     "name": "stdout",
     "output_type": "stream",
     "text": [
      "* \n",
      "* * \n",
      "* * * \n",
      "* * * * \n"
     ]
    }
   ],
   "source": [
    "row = int(input(\"Enter the number of row\"))\n",
    "\n",
    "i = 1\n",
    "\n",
    "while i <= row:\n",
    "    j = 1\n",
    "    while j <= i:\n",
    "        print('*',end=' ')\n",
    "        j+=1\n",
    "    print('')\n",
    "    i += 1\n",
    "\n",
    "\n"
   ]
  },
  {
   "cell_type": "markdown",
   "id": "70ee93fa",
   "metadata": {},
   "source": [
    "# 1 \n",
    "# 2 2\n",
    "# 3 3 3\n",
    "# 4 4 4 4"
   ]
  },
  {
   "cell_type": "code",
   "execution_count": 23,
   "id": "6e286c31",
   "metadata": {},
   "outputs": [
    {
     "name": "stdout",
     "output_type": "stream",
     "text": [
      "1 \n",
      "2 2 \n",
      "3 3 3 \n",
      "4 4 4 4 \n",
      "5 5 5 5 5 \n"
     ]
    }
   ],
   "source": [
    "row = int(input(\"Enter the number of row\"))\n",
    "\n",
    "i = 1\n",
    "\n",
    "while i <= row:\n",
    "    j = 1\n",
    "    while j <= i:\n",
    "        print(i,end=' ')\n",
    "        j+=1\n",
    "    print('')\n",
    "    i += 1"
   ]
  },
  {
   "cell_type": "markdown",
   "id": "6d39164c",
   "metadata": {},
   "source": [
    "# 1\n",
    "# 2 3\n",
    "# 4 5 6\n",
    "# 7 8 9 10"
   ]
  },
  {
   "cell_type": "code",
   "execution_count": 24,
   "id": "b526541a",
   "metadata": {},
   "outputs": [
    {
     "name": "stdout",
     "output_type": "stream",
     "text": [
      "1 \n",
      "2 3 \n",
      "4 5 6 \n",
      "7 8 9 10 \n",
      "11 12 13 14 15 \n"
     ]
    }
   ],
   "source": [
    "row = int(input(\"Enter the number of row\"))\n",
    "\n",
    "i = 1\n",
    "count = 1\n",
    "\n",
    "while i <= row:\n",
    "    j = 1\n",
    "    while j <= i:\n",
    "        print(count,end=' ')\n",
    "        count +=1\n",
    "        j+=1\n",
    "    print('')\n",
    "    i += 1"
   ]
  },
  {
   "cell_type": "markdown",
   "id": "bf3fbc27",
   "metadata": {},
   "source": [
    "# 1 \n",
    "# 2 3 \n",
    "# 3 4 5 \n",
    "# 4 5 6 7 "
   ]
  },
  {
   "cell_type": "code",
   "execution_count": 29,
   "id": "9cde705e",
   "metadata": {},
   "outputs": [
    {
     "name": "stdout",
     "output_type": "stream",
     "text": [
      "1 \n",
      "2 3 \n",
      "3 4 5 \n",
      "4 5 6 7 \n",
      "5 6 7 8 9 \n"
     ]
    }
   ],
   "source": [
    "n = int(input(\"Enter the number of row\"))\n",
    "\n",
    "row = 1\n",
    "\n",
    "while row <= n:\n",
    "    j = 1\n",
    "    # value = row\n",
    "    while j <= row:\n",
    "        print(row + j -1,end=' ')\n",
    "        # value +=1\n",
    "        j+=1\n",
    "    print('')\n",
    "    row += 1"
   ]
  },
  {
   "cell_type": "markdown",
   "id": "0d1c2b53",
   "metadata": {},
   "source": [
    "# 1\n",
    "# 2 1\n",
    "# 3 2 1\n",
    "# 4 3 2 1"
   ]
  },
  {
   "cell_type": "code",
   "execution_count": 33,
   "id": "bc242f54",
   "metadata": {},
   "outputs": [
    {
     "name": "stdout",
     "output_type": "stream",
     "text": [
      "1 \n",
      "2 1 \n",
      "3 2 1 \n",
      "4 3 2 1 \n",
      "5 4 3 2 1 \n"
     ]
    }
   ],
   "source": [
    "n = int(input(\"Enter the number of row\"))\n",
    "\n",
    "row = 1\n",
    "\n",
    "while row <= n:\n",
    "    col = 1\n",
    "    while col <= row:\n",
    "        print(row - col +1,end=' ')\n",
    "        col += 1\n",
    "    print('')\n",
    "    row += 1"
   ]
  },
  {
   "cell_type": "markdown",
   "id": "3e66e3df",
   "metadata": {},
   "source": [
    "# A B C D\n",
    "# A B C D\n",
    "# A B C D\n",
    "# A B C D\n"
   ]
  },
  {
   "cell_type": "code",
   "execution_count": 8,
   "id": "89d757c8",
   "metadata": {},
   "outputs": [
    {
     "name": "stdout",
     "output_type": "stream",
     "text": [
      "B C D E \n",
      "B C D E \n",
      "B C D E \n",
      "B C D E \n",
      "B C D E \n"
     ]
    }
   ],
   "source": [
    "rows = int(input('Enter the number of rows'))\n",
    "\n",
    "i = 1\n",
    "while i <= rows:\n",
    "    j=0\n",
    "    while j<rows:\n",
    "        print(chr(65+j), end=\" \")\n",
    "        j+=1\n",
    "    print(\"\")\n",
    "    i+=1"
   ]
  },
  {
   "cell_type": "code",
   "execution_count": 3,
   "id": "045b0721",
   "metadata": {},
   "outputs": [
    {
     "name": "stdout",
     "output_type": "stream",
     "text": [
      "A\n"
     ]
    }
   ],
   "source": []
  },
  {
   "cell_type": "code",
   "execution_count": null,
   "id": "10839717",
   "metadata": {},
   "outputs": [],
   "source": []
  }
 ],
 "metadata": {
  "kernelspec": {
   "display_name": "Python 3",
   "language": "python",
   "name": "python3"
  },
  "language_info": {
   "codemirror_mode": {
    "name": "ipython",
    "version": 3
   },
   "file_extension": ".py",
   "mimetype": "text/x-python",
   "name": "python",
   "nbconvert_exporter": "python",
   "pygments_lexer": "ipython3",
   "version": "3.11.3"
  }
 },
 "nbformat": 4,
 "nbformat_minor": 5
}
