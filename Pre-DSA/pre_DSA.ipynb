{
 "cells": [
  {
   "cell_type": "markdown",
   "id": "fcc63b97-4773-4d02-ba21-99e7e7c3ffc4",
   "metadata": {},
   "source": [
    "# Determining Even/Odd Numbers\n",
    "* Difficulty: Easy \n",
    "* Topics: Basic Programming\n",
    "* Description: Write a program to check whether a number is even or odd.\n",
    "* Example:\n",
    "* Input: number = 4\n",
    "* Output: Even\n",
    "* Explanation: Since 4 is divisible by 2, it is an even number."
   ]
  },
  {
   "cell_type": "code",
   "execution_count": 75,
   "id": "30c0733c",
   "metadata": {},
   "outputs": [
    {
     "name": "stdout",
     "output_type": "stream",
     "text": [
      "22 is odd\n"
     ]
    }
   ],
   "source": [
    "number = int(input(\"Enter a no\"))\n",
    "if number // 2 == 0:\n",
    "    print(number, \"is even\")\n",
    "else:\n",
    "    print(number, \"is odd\")\n"
   ]
  },
  {
   "cell_type": "markdown",
   "id": "9312b355",
   "metadata": {},
   "source": [
    "# Checking for Prime Numbers\n",
    "* Difficulty: Easy\n",
    "* Topics: Basic Programming, Number Theory\n",
    "* Description: Write a program to determine if a number is prime.\n",
    "* Example:\n",
    "* Input: number = 7\n",
    "* Output: Prime\n",
    "* Explanation: 7 has no divisors other than 1 and itself, so it is a prime number."
   ]
  },
  {
   "cell_type": "code",
   "execution_count": 76,
   "id": "2fd91092",
   "metadata": {},
   "outputs": [
    {
     "name": "stdout",
     "output_type": "stream",
     "text": [
      "23 is a prime number\n"
     ]
    }
   ],
   "source": [
    "import math\n",
    "number = int(input(\"Enter a number\"))\n",
    "is_prime = True\n",
    "\n",
    "if number < 2:\n",
    "    is_prime = False\n",
    "else:\n",
    "    for i in range(2, int(math.sqrt(number))+1):\n",
    "        if number % i == 0:\n",
    "            is_prime = False\n",
    "\n",
    "if is_prime:\n",
    "    print(number, \"is a prime number\")\n",
    "else:\n",
    "    print(number, \"is not a prime number\")"
   ]
  },
  {
   "cell_type": "markdown",
   "id": "daa0c149",
   "metadata": {},
   "source": [
    "# Validating Leap Years\n",
    "* Difficulty: Easy\n",
    "* Topics: Basic Programming, Date Handling\n",
    "* Description: Write a program to check if a given year is a leap year.\n",
    "* Example:\n",
    "* Input: year = 2020\n",
    "* Output: Leap Year\n",
    "* Explanation: 2020 is divisible by 4 but not by 100, or it is divisible by 400, so it is a leap year."
   ]
  },
  {
   "cell_type": "code",
   "execution_count": 77,
   "id": "5bd7ba55",
   "metadata": {},
   "outputs": [
    {
     "name": "stdout",
     "output_type": "stream",
     "text": [
      "2024 is a leap year\n"
     ]
    }
   ],
   "source": [
    "year = int(input(\"Enter the year\"))\n",
    "\n",
    "is_leapYear = True\n",
    "\n",
    "if year % 4 == 0:\n",
    "    if year % 100 == 0:\n",
    "        if year % 400 == 0:\n",
    "            is_leapYear = True\n",
    "\n",
    "else:\n",
    "    is_leapYear = False\n",
    "    \n",
    "if is_leapYear:\n",
    "    print(f\"{year} is a leap year\")\n",
    "else:\n",
    "    print(f\"{year} is not a leap year\")"
   ]
  },
  {
   "cell_type": "markdown",
   "id": "6d653ca4",
   "metadata": {},
   "source": [
    "# Calculating Armstrong Numbers\n",
    "* Difficulty: Easy\n",
    "* Topics: Basic Programming, Number Theory\n",
    "* Description: Write a program to check if a number is an Armstrong number.\n",
    "* Example:\n",
    "* Input: number = 153\n",
    "* Output: Armstrong Number\n",
    "* Explanation: 153 is an Armstrong number because 1^3 + 5^3 + 3^3 = 153"
   ]
  },
  {
   "cell_type": "code",
   "execution_count": 78,
   "id": "f4b3c262",
   "metadata": {},
   "outputs": [
    {
     "name": "stdout",
     "output_type": "stream",
     "text": [
      "123 is not an Armstrong number\n"
     ]
    }
   ],
   "source": [
    "number = int(input(\"Enter a number\"))\n",
    "is_armstrong = True\n",
    "\n",
    "stringNumber = str(number)\n",
    "x = len(stringNumber)\n",
    "final = 0\n",
    "for i in range(0,x):\n",
    "    # print(stringNumber[i])\n",
    "    final += int(stringNumber[i])**x\n",
    "    \n",
    "if final != number:\n",
    "    is_armstrong = False\n",
    "    \n",
    "# print(final)\n",
    "if is_armstrong:\n",
    "    print(number,\"is an Armstrong number\")\n",
    "else:\n",
    "    print(number,\"is not an Armstrong number\")\n",
    "    \n",
    "    \n",
    "    \n",
    "    \n",
    "    \n"
   ]
  },
  {
   "cell_type": "code",
   "execution_count": 79,
   "id": "e76c9ecf",
   "metadata": {},
   "outputs": [
    {
     "name": "stdout",
     "output_type": "stream",
     "text": [
      "153 is a armstrong number\n"
     ]
    }
   ],
   "source": [
    "\"\"\"Using maths only\"\"\"\n",
    "number = int(input(\"Enter a number\"))\n",
    "original_number = number\n",
    "\n",
    "# Step 1 ---> counting the no of digit\n",
    "temp = number\n",
    "count = 0  # counting the no of digit\n",
    "while temp > 0:\n",
    "    temp = temp // 10\n",
    "    count += 1\n",
    "    \n",
    "# step 2 ---> exponential Summation of digits\n",
    "sum_of_digits = 0\n",
    "temp = number\n",
    "while temp > 0:\n",
    "    digit = temp % 10\n",
    "    sum_of_digits += digit**count\n",
    "    temp = temp // 10\n",
    "\n",
    "if sum_of_digits == original_number:\n",
    "    print(f\"{original_number} is a armstrong number\")\n",
    "else:\n",
    "    print(f\"{original_number} is not a armstrong number\")"
   ]
  },
  {
   "cell_type": "markdown",
   "id": "6bddbea9",
   "metadata": {},
   "source": [
    "# Generating the Fibonacci Series\n",
    "* Difficulty: Easy\n",
    "* Topics: Basic Programming, Sequences\n",
    "* Description: Write a program to generate the Fibonacci series up to a given number.\n",
    "* Example:\n",
    "* Input: limit = 10\n",
    "* Output: [0, 1, 1, 2, 3, 5, 8]\n",
    "* Explanation: The Fibonacci series up to 10 is generated as [0, 1, 1, 2, 3, 5, 8]."
   ]
  },
  {
   "cell_type": "code",
   "execution_count": 80,
   "id": "395867db",
   "metadata": {},
   "outputs": [
    {
     "name": "stdout",
     "output_type": "stream",
     "text": [
      "[0, 1, 1, 2, 3, 5, 8, 13, 21, 34]\n"
     ]
    }
   ],
   "source": [
    "length = int(input(\"Enter the length of the fibonacci series\"))\n",
    "fibList = [0,1]\n",
    "if length == 0:\n",
    "    print(\"0\")\n",
    "\n",
    "if length == 1:\n",
    "    print(fibList)\n",
    "else:\n",
    "    while length > 1:\n",
    "        fibList.append(fibList[-1] + fibList[-2])\n",
    "        length -= 1\n",
    "        \n",
    "print(fibList)\n",
    "\n"
   ]
  },
  {
   "cell_type": "markdown",
   "id": "4339af75",
   "metadata": {},
   "source": [
    "#   Identifying Palindromes\n",
    "* Difficulty: Easy\n",
    "* Topics: Basic Programming, String Manipulation\n",
    "* Description: Write a program to check if a string or number is a palindrome.\n",
    "* Example:\n",
    "* Input: string = \"radar\"\n",
    "* Output: Palindrome\n",
    "* Explanation: \"radar\" reads the same backward as forward."
   ]
  },
  {
   "cell_type": "code",
   "execution_count": 81,
   "id": "ceaf4f4d",
   "metadata": {},
   "outputs": [
    {
     "name": "stdout",
     "output_type": "stream",
     "text": [
      "The word is a palindrome\n"
     ]
    }
   ],
   "source": [
    "def is_palindrome(word:int) -> bool:\n",
    "    \"\"\"Check if a given integer is a palindrome.\"\"\"\n",
    "    if word == word[::-1]:\n",
    "        return True\n",
    "    else:\n",
    "        return False\n",
    "\n",
    "word = input(\"Enter the word\")\n",
    "if is_palindrome(word):\n",
    "    print(\"The word is a palindrome\")\n",
    "else:\n",
    "    print(\"The word is not a palindrome\")\n",
    "    "
   ]
  },
  {
   "cell_type": "markdown",
   "id": "ab097138",
   "metadata": {},
   "source": [
    "# Crafting Star Patterns\n",
    "* Difficulty: Easy\n",
    "* Topics: Basic Programming, Patterns\n",
    "* Description: Write a program to create different star patterns (e.g., pyramid, diamond).\n",
    "* Example:\n",
    "* Input: patternType = \"pyramid\", height = 5\n",
    "* Output:\n"
   ]
  },
  {
   "cell_type": "code",
   "execution_count": 82,
   "id": "57c357b5",
   "metadata": {},
   "outputs": [
    {
     "name": "stdout",
     "output_type": "stream",
     "text": [
      "    *   \n",
      "   ***  \n",
      "  ***** \n",
      " *******\n"
     ]
    }
   ],
   "source": [
    "def pyramid(height):\n",
    "    for i in range(1, height + 1):\n",
    "        for j in range(2*height):\n",
    "            if j >= (height+1)-i and j <= (height-1)+i:\n",
    "                print(\"*\",end=\"\")\n",
    "            else:\n",
    "                print(\" \",end=\"\")\n",
    "        print(\"\")\n",
    "height = int(input(\"Enter the height of the pyramid\"))\n",
    "pyramid(height)"
   ]
  },
  {
   "cell_type": "markdown",
   "id": "764682bf",
   "metadata": {},
   "source": [
    "# Finding the Factorial of a Number\n",
    "* Difficulty: Easy\n",
    "* Topics: Basic Programming, Mathematical Computations\n",
    "* Description: Write a program to compute the factorial of a given number.\n",
    "* Example:\n",
    "* Input: number = 5\n",
    "* Output: 120\n",
    "* Explanation: 5! (factorial) is 5 × 4 × 3 × 2 × 1 = 120."
   ]
  },
  {
   "cell_type": "code",
   "execution_count": 3,
   "id": "b617c06b",
   "metadata": {},
   "outputs": [
    {
     "name": "stdout",
     "output_type": "stream",
     "text": [
      "120\n"
     ]
    }
   ],
   "source": [
    "# number = int(input(\"Enter the number\"))\n",
    "# for i in range (1,number):\n",
    "#     number = number * i\n",
    "    \n",
    "# print(number)\n",
    "\n",
    "def factorial(n):\n",
    "    if n == 0:\n",
    "        return 1\n",
    "    if n == 1:\n",
    "        return n\n",
    "    else:\n",
    "        return n * factorial(n-1)\n",
    "    \n",
    "n = int(input(\"Enter the number\"))\n",
    "print(factorial(n))\n",
    "    "
   ]
  },
  {
   "cell_type": "markdown",
   "id": "b0501d7e",
   "metadata": {},
   "source": [
    "# Generating a Pattern of Numbers\n",
    "* Difficulty: Easy\n",
    "* Topics: Basic Programming, Patterns\n",
    "* Description: Write a program to generate number patterns (e.g., sequential numbers in a matrix).\n",
    "* Example:\n",
    "* Input: rows = 3\n",
    "* Output:<br>\n",
    "1<br>\n",
    "23<br>\n",
    "456"
   ]
  },
  {
   "cell_type": "code",
   "execution_count": 4,
   "id": "78d9923c",
   "metadata": {},
   "outputs": [
    {
     "name": "stdout",
     "output_type": "stream",
     "text": [
      "1\n",
      "23\n",
      "456\n"
     ]
    }
   ],
   "source": [
    "count = 1\n",
    "for i in range (1, 4):\n",
    "    for j in range(1,4):\n",
    "        if j<=i:\n",
    "            print(count,end=\"\")\n",
    "            count += 1\n",
    "        \n",
    "    print(\"\")"
   ]
  },
  {
   "cell_type": "markdown",
   "id": "908df48d",
   "metadata": {},
   "source": [
    "# Generating a Pascal’s Triangle\n",
    "* Difficulty: Medium\n",
    "* Topics: Arrays, Mathematical Computations\n",
    "* Description: Write a program to generate Pascal's Triangle up to a given number of rows.\n",
    "* Example:\n",
    "* Input: rows = 4\n",
    "* Output:"
   ]
  },
  {
   "cell_type": "code",
   "execution_count": 6,
   "id": "1db9f412",
   "metadata": {},
   "outputs": [
    {
     "name": "stdout",
     "output_type": "stream",
     "text": [
      "     1    \n",
      "    1 1   \n",
      "   1 2 1  \n",
      "  1 3 3 1 \n",
      " 1 4 6 4 1\n"
     ]
    }
   ],
   "source": [
    "def factorial(n):\n",
    "    if n == 0:\n",
    "        return 1\n",
    "    if n == 1:\n",
    "        return n\n",
    "    else:\n",
    "        return n * factorial(n-1)\n",
    "\n",
    "def combination(n:int, r:int)-> int:\n",
    "    return (factorial(n)//(factorial(n-r)*factorial(r)))\n",
    "\n",
    "def pascal_triangle(height:int)->None:\n",
    "    for i in range (1,height+1):\n",
    "        k = True\n",
    "        r=0\n",
    "        for j in range (2*height):\n",
    "            if j >= (height + 1) - i and j <= (height -1) +i and k:\n",
    "                print(combination(i-1,r), end=\"\")\n",
    "                k = False\n",
    "                r += 1\n",
    "            else:\n",
    "                print(\" \", end=\"\")\n",
    "                k = True\n",
    "        print(\"\")\n",
    "        \n",
    "height = int(input(\"enter the height\"))\n",
    "pascal_triangle(height)"
   ]
  },
  {
   "cell_type": "code",
   "execution_count": 86,
   "id": "ad836b1d",
   "metadata": {},
   "outputs": [
    {
     "name": "stdout",
     "output_type": "stream",
     "text": [
      "             1              \n",
      "           1   1            \n",
      "         1   2   1          \n",
      "       1   3   3   1        \n",
      "     1   4   6   4   1      \n",
      "   1   5   10  10  5   1    \n",
      " 1   6   15  20  15  6   1  \n"
     ]
    }
   ],
   "source": [
    "from math import factorial\n",
    "\n",
    "def combination(n: int, r: int) -> int:\n",
    "    return factorial(n) // (factorial(r) * factorial(n - r))\n",
    "\n",
    "def pascal_triangle(height: int) -> None:\n",
    "    # Determine the max width needed for the largest number\n",
    "    max_num = combination(height - 1, (height - 1) // 2)\n",
    "    cell_width = len(str(max_num)) + 2  # +2 for padding between numbers\n",
    "\n",
    "    for i in range(height):\n",
    "        line = \"\"\n",
    "        for j in range(i + 1):\n",
    "            num = str(combination(i, j)).center(cell_width)\n",
    "            line += num\n",
    "        # Center the line according to total width\n",
    "        print(line.center(cell_width * height))\n",
    "\n",
    "# Run\n",
    "height = int(input(\"Enter the height of Pascal's Triangle: \"))\n",
    "pascal_triangle(height)"
   ]
  },
  {
   "cell_type": "markdown",
   "id": "0f1016f4",
   "metadata": {},
   "source": [
    "# Finding the Longest Substring Without Repeating Characters\n",
    "* Difficulty: Medium\n",
    "* Topics: String Manipulation, Sliding Window\n",
    "* Description: Write a program to find the longest substring without repeating characters in a given string.\n",
    "* Example:\n",
    "* Input: string = \"abcabcbb\"\n",
    "* Output: \"abc\"\n",
    "* Explanation: The longest substring without repeating characters is \"abc\"."
   ]
  },
  {
   "cell_type": "code",
   "execution_count": null,
   "id": "6302300e",
   "metadata": {},
   "outputs": [],
   "source": []
  },
  {
   "cell_type": "markdown",
   "id": "16a79b9d",
   "metadata": {},
   "source": [
    "# Finding the Summation of Digits of a Number Until Zero\n",
    "* Difficulty: Easy\n",
    "* Topics: Basic Programming, Mathematical Computations\n",
    "* Description: Write a program to repeatedly Summation the digits of a number until the result is zero.\n",
    "* Example:\n",
    "* Input: number = 123\n",
    "* Output: 6\n",
    "* Explanation: Summation of digits is 1 + 2 + 3 = 6; Summation of digits of 6 is 6 (which is a single digit)."
   ]
  },
  {
   "cell_type": "code",
   "execution_count": 89,
   "id": "82d2dfca",
   "metadata": {},
   "outputs": [
    {
     "name": "stdout",
     "output_type": "stream",
     "text": [
      "9\n"
     ]
    }
   ],
   "source": [
    "num = int(input(\"Enter a number\"))\n",
    "while num >= 10:\n",
    "    sum_digit = 0\n",
    "    temp = num\n",
    "    while temp > 0:\n",
    "        sum_digit += temp % 10\n",
    "        temp = temp // 10\n",
    "    num = sum_digit\n",
    "    \n",
    "print(sum_digit) "
   ]
  },
  {
   "cell_type": "markdown",
   "id": "cf9b6936",
   "metadata": {},
   "source": [
    "# Finding All Pairs of Elements in an Array that Add Up to a Given Summation\n",
    "* Difficulty: Medium\n",
    "* Topics: Arrays, Hashing\n",
    "* Description: Write a program to find all pairs of elements in an array whose Summation equals a specified target.\n",
    "* Example:\n",
    "* Input: array = [1, 2, 3, 4, 5], target = 5\n",
    "* Output: [(1, 4), (2, 3)]\n",
    "* Explanation: Pairs that Summation up to 5 are (1, 4) and (2, 3).\n",
    "\n"
   ]
  },
  {
   "cell_type": "code",
   "execution_count": 90,
   "id": "74c11748",
   "metadata": {},
   "outputs": [
    {
     "name": "stdout",
     "output_type": "stream",
     "text": [
      "[[1, 5], [2, 4]]\n"
     ]
    }
   ],
   "source": [
    "# input_array = list(map(int,input(\"enter the number array\").split()))\n",
    "# target = int(input(\"Enter the target Summation: \"))\n",
    "# sol = []\n",
    "# for i in range(len(input_array)):\n",
    "#     for j in range(i+1, len(input_array)):\n",
    "#         if input_array[i] + input_array[j] == target:\n",
    "#             sol.append([input_array[i],input_array[j]])\n",
    "\n",
    "# print(sol)\n",
    "\n",
    "# two pointer\n",
    "input_array = list(map(int, input(\"Enter the number array: \").split()))\n",
    "target = int(input(\"Enter the target Summation: \"))\n",
    "input_array.sort()\n",
    "\n",
    "left = 0\n",
    "right = len(input_array) - 1\n",
    "sol = []\n",
    "\n",
    "while left < right:\n",
    "    current_sum = input_array[left] + input_array[right]\n",
    "    if current_sum == target:\n",
    "        sol.append([input_array[left], input_array[right]])\n",
    "        left += 1\n",
    "        right -= 1\n",
    "    elif current_sum < target:\n",
    "        left += 1\n",
    "    else:\n",
    "        right -= 1\n",
    "\n",
    "print(sol)\n"
   ]
  },
  {
   "cell_type": "markdown",
   "id": "24d71f8e",
   "metadata": {},
   "source": [
    "# Generating a Diamond Pattern of Stars\n",
    "* Difficulty: Medium\n",
    "* Topics: Patterns, Basic Programming\n",
    "* Description: Write a program to create a diamond pattern with stars of a given size.\n",
    "* Example:\n",
    "* Input: size = 5\n",
    "* Output:\n",
    "\n"
   ]
  },
  {
   "cell_type": "code",
   "execution_count": 91,
   "id": "bd04bf9c",
   "metadata": {},
   "outputs": [
    {
     "name": "stdout",
     "output_type": "stream",
     "text": [
      "                *               \n",
      "              * * *             \n",
      "            * * * * *           \n",
      "          * * * * * * *         \n",
      "        * * * * * * * * *       \n",
      "      * * * * * * * * * * *     \n",
      "    * * * * * * * * * * * * *   \n",
      "  * * * * * * * * * * * * * * * \n",
      "    * * * * * * * * * * * * *   \n",
      "      * * * * * * * * * * *     \n",
      "        * * * * * * * * *       \n",
      "          * * * * * * *         \n",
      "            * * * * *           \n",
      "              * * *             \n",
      "                *               \n"
     ]
    }
   ],
   "source": [
    "height = (int(input(\"Enter the height of the rectangle\")))\n",
    "for i in range(1,height+1):\n",
    "    for j in range(2*height):\n",
    "        if j>= (height - i) + 1 and j <= (height + i) - 1:\n",
    "            print(\"*\",end=\" \")\n",
    "        else:\n",
    "            print(\" \",end=\" \")\n",
    "    print(\"\")\n",
    "    \n",
    "for i in range(height-1,0,-1):\n",
    "    for j in range(2*height):\n",
    "        if j>= (height - i) + 1 and j <= (height + i) - 1:\n",
    "            print(\"*\",end=\" \")\n",
    "        else:\n",
    "            print(\" \",end=\" \")\n",
    "    print(\"\")\n"
   ]
  },
  {
   "cell_type": "markdown",
   "id": "db2daacf",
   "metadata": {},
   "source": [
    "# Finding the GCD of Multiple Numbers\n",
    "* Difficulty: Medium\n",
    "* Topics: Mathematical Computations\n",
    "* Description: Write a program to find the GCD (Greatest Common Divisor) of an array of numbers.\n",
    "* Example:\n",
    "* Input: array = [12, 24, 36]\n",
    "* Output: 12\n",
    "* Explanation: The GCD of 12, 24, and 36 is 12."
   ]
  },
  {
   "cell_type": "code",
   "execution_count": null,
   "id": "51ea3d9d",
   "metadata": {},
   "outputs": [],
   "source": []
  },
  {
   "cell_type": "markdown",
   "id": "7f2b88a0",
   "metadata": {},
   "source": [
    "# Finding the Summation of Numbers in a String\n",
    "* Difficulty: Easy\n",
    "* Topics: String Manipulation\n",
    "* Description: Write a program to extract and Summation all numbers present in a given string.\n",
    "* Example:\n",
    "* Input: string = \"The numbers are 12 and 34\"\n",
    "* Output: 46\n",
    "* Explanation: The Summation of numbers 12 and 34 is 46."
   ]
  },
  {
   "cell_type": "code",
   "execution_count": 95,
   "id": "fc31b569",
   "metadata": {},
   "outputs": [
    {
     "name": "stdout",
     "output_type": "stream",
     "text": [
      "46.0\n"
     ]
    }
   ],
   "source": [
    "import math\n",
    "string = \"The numbers are 12 and 34\"\n",
    "result = [int(word) for word in string.split() if word.isdigit()]\n",
    "print(math.fsum(result))\n"
   ]
  },
  {
   "cell_type": "markdown",
   "id": "a545e0a9",
   "metadata": {},
   "source": [
    "# Finding the Longest Consecutive Sequence in an Array\n",
    "* Difficulty: Medium\n",
    "* Topics: Arrays, Hashing\n",
    "* Description: Write a program to find the longest sequence of consecutive numbers in an array.\n",
    "* Example:\n",
    "* Input: array = [100, 4, 200, 1, 3, 2]\n",
    "* Output: 4\n",
    "* Explanation: The longest consecutive sequence is [1, 2, 3, 4]."
   ]
  },
  {
   "cell_type": "code",
   "execution_count": null,
   "id": "400b1874",
   "metadata": {},
   "outputs": [],
   "source": []
  },
  {
   "cell_type": "markdown",
   "id": "938dc1c6",
   "metadata": {},
   "source": [
    "# Generating a Matrix with a Spiral Pattern\n",
    "* Difficulty: Medium\n",
    "* Topics: Arrays, Matrix Operations\n",
    "* Description: Write a program to generate a matrix filled with numbers in a spiral pattern.\n",
    "* Example:\n",
    "* Input: size = 3\n",
    "* Output:"
   ]
  },
  {
   "cell_type": "code",
   "execution_count": null,
   "id": "f52c31c0",
   "metadata": {},
   "outputs": [],
   "source": []
  },
  {
   "cell_type": "markdown",
   "id": "6805a07d",
   "metadata": {},
   "source": [
    "# Generating Pascal’s Triangle Up to N Rows\n",
    "* Difficulty: Medium\n",
    "* Topics: Combinatorics\n",
    "* Description: Write a program to generate Pascal’s Triangle up to N rows.\n",
    "* Example:\n",
    "* Input: N = 3\n",
    "* Output:"
   ]
  },
  {
   "cell_type": "code",
   "execution_count": null,
   "id": "fdade99c",
   "metadata": {},
   "outputs": [],
   "source": []
  },
  {
   "cell_type": "markdown",
   "id": "bbc8adae",
   "metadata": {},
   "source": [
    "# Generating Pascal’s Triangle Up to N Rows\n",
    "* Difficulty: Medium\n",
    "* Topics: Combinatorics\n",
    "* Description: Write a program to generate Pascal’s Triangle up to N rows.\n",
    "* Example:\n",
    "* Input: N = 3\n",
    "* Output:\n",
    "\n",
    "1 0 0 0  \n",
    "1 1 0 0  \n",
    "1 1 1 0  \n",
    "1 1 1 1"
   ]
  },
  {
   "cell_type": "code",
   "execution_count": null,
   "id": "e5813cd4",
   "metadata": {},
   "outputs": [],
   "source": []
  },
  {
   "cell_type": "markdown",
   "id": "30dbe0c8",
   "metadata": {},
   "source": [
    "# Checking for Anagram Pairs in a List of Strings\n",
    "* Difficulty: Medium\n",
    "* Topics: String Manipulation\n",
    "* Description: Write a program to find pairs of strings in a list that are anagrams of each other.\n",
    "* Example:\n",
    "* Input: strings = [\"listen\", \"silent\", \"hello\", \"world\"]\n",
    "* Output: [(\"listen\", \"silent\")]\n",
    "* Explanation: \"listen\" and \"silent\" are anagrams."
   ]
  },
  {
   "cell_type": "code",
   "execution_count": null,
   "id": "6097e113",
   "metadata": {},
   "outputs": [],
   "source": []
  },
  {
   "cell_type": "markdown",
   "id": "d92a93f4",
   "metadata": {},
   "source": [
    "# Finding All Triplets in an Array That Summation to Zero\n",
    "* Difficulty: Medium\n",
    "* Topics: Arrays, Sorting\n",
    "* Description: Write a program to find all unique triplets in an array that Summation to zero.\n",
    "* Example:\n",
    "* Input: array = [-1, 0, 1, 2, -1, -4]\n",
    "* Output: [[-1, -1, 2], [-1, 0, 1]]"
   ]
  },
  {
   "cell_type": "code",
   "execution_count": null,
   "id": "64320c70",
   "metadata": {},
   "outputs": [],
   "source": []
  },
  {
   "cell_type": "markdown",
   "id": "0c96befa",
   "metadata": {},
   "source": [
    "# Problem 5: Print a Hollow Square of Stars\n",
    "* Difficulty: Easy\n",
    "* Topics: Pattern Printing\n",
    "* Hint: Print a hollow square pattern with stars (*). The border of the square should be filled with stars while the inner part should be empty.\n",
    "* Example 1: Input: n = 5\n",
    "* Output:\n",
    "\n",
    "```\n",
    "*****\n",
    "*   *\n",
    "*   *\n",
    "*   *\n",
    "*****\n",
    "```"
   ]
  },
  {
   "cell_type": "code",
   "execution_count": null,
   "id": "cb51c674",
   "metadata": {},
   "outputs": [],
   "source": []
  },
  {
   "cell_type": "markdown",
   "id": "9b8066da",
   "metadata": {},
   "source": [
    "# Problem 19: Print an Inverted Pyramid Pattern with Characters\n",
    "* Difficulty: Medium\n",
    "* Topics: Pattern Printing\n",
    "* Hint: Print an inverted pyramid pattern using characters. Each row should have decreasing characters from the top row.\n",
    "* \n",
    "* Example 1: Input: n = 3\n",
    "* Output:\n",
    "\n",
    "```\n",
    "CCC\n",
    " BB\n",
    "  A\n",
    "  ```"
   ]
  },
  {
   "cell_type": "code",
   "execution_count": null,
   "id": "dd43f218",
   "metadata": {},
   "outputs": [
    {
     "name": "stdout",
     "output_type": "stream",
     "text": [
      "* * * * \n",
      " * * * \n",
      "  * * \n",
      "   * \n",
      "    \n",
      "    \n",
      "   * \n",
      "  * * \n"
     ]
    }
   ],
   "source": [
    "height = int(input(\"Enter the height\"))\n",
    "for i in range(height):\n",
    "    for j in range(height):\n",
    "        if j>=i:\n",
    "            print(\"*\", end=\" \")\n",
    "        else:\n",
    "            print(\" \",end=\"\")\n",
    "    print(\"\")"
   ]
  },
  {
   "cell_type": "markdown",
   "id": "0295c5b8",
   "metadata": {},
   "source": [
    "# Problem 28: Print a Pattern with Diagonal Lines\n",
    "* Difficulty: Hard\n",
    "* Topics: Pattern Printing\n",
    "* Hint: Print a pattern with diagonal lines using characters. Each diagonal line should be aligned properly.\n",
    "* \n",
    "* Example 1: Input: n = 4\n",
    "* Output:\n",
    "\n",
    "```\n",
    "A\n",
    "B B\n",
    "C   C\n",
    "D     D"
   ]
  },
  {
   "cell_type": "code",
   "execution_count": 66,
   "id": "f9ca80a9",
   "metadata": {},
   "outputs": [
    {
     "name": "stdout",
     "output_type": "stream",
     "text": [
      "A\n",
      "BB\n",
      "C C\n",
      "D  D\n"
     ]
    }
   ],
   "source": [
    "arr = ['A', 'B', 'C', 'D']\n",
    "\n",
    "for i in range(1, 5):  # 4 rows\n",
    "    for j in range(i):\n",
    "        if j == 0 or j == i - 1:\n",
    "            print(arr[i - 1], end='')\n",
    "        else:\n",
    "            print(' ', end='')\n",
    "    print()"
   ]
  },
  {
   "cell_type": "code",
   "execution_count": 68,
   "id": "6c14ddfc",
   "metadata": {},
   "outputs": [
    {
     "name": "stdout",
     "output_type": "stream",
     "text": [
      "A\n",
      "BB\n",
      "C C\n",
      "D  D\n",
      "E   E\n",
      "F    F\n"
     ]
    }
   ],
   "source": [
    "height = int(input(\"Enter height\"))\n",
    "for i in range(height):  # 4 rows\n",
    "    ch = chr(65 + i)  # Convert number to corresponding uppercase letter\n",
    "    for j in range(i + 1):\n",
    "        if j == 0 or j == i:\n",
    "            print(ch, end='')\n",
    "        else:\n",
    "            print(' ', end='')\n",
    "    print()"
   ]
  },
  {
   "cell_type": "markdown",
   "id": "5b980b32",
   "metadata": {},
   "source": [
    "# Problem 29: Print a Matrix with Diamond Pattern of Numbers\n",
    "* Difficulty: Hard\n",
    "* Topics: Matrix Pattern\n",
    "* Hint: Print a matrix where elements follow a diamond pattern with numbers.\n",
    "* \n",
    "* Example 1: Input: n = 3\n",
    "* Output:\n",
    "\n",
    " ```\n",
    "  1\n",
    " 121\n",
    "12321\n",
    " 121\n",
    "  1"
   ]
  },
  {
   "cell_type": "code",
   "execution_count": 100,
   "id": "f29772c4",
   "metadata": {},
   "outputs": [
    {
     "name": "stdout",
     "output_type": "stream",
     "text": [
      "      1     \n",
      "    1 2 1   \n",
      "  1 2 3 2 3 \n",
      "    1 2 1   \n",
      "      1     \n"
     ]
    }
   ],
   "source": [
    "height = (int(input(\"Enter the height of the rectangle\")))\n",
    "for i in range(1,height+1):\n",
    "    count =1\n",
    "    # ----------> Incrementing <-----------\n",
    "    for j in range(height+1):\n",
    "        if j>= (height - i) + 1:\n",
    "            print(count,end=\" \")\n",
    "            count +=1\n",
    "        else:\n",
    "            print(\" \",end=\" \")\n",
    "    # -----> decrementing <---------\n",
    "    count -= 2    \n",
    "    for j in range(1,height):\n",
    "        if j<i:\n",
    "            print(count,end=\" \")\n",
    "            count +=1\n",
    "        else:\n",
    "            print(\" \",end=\" \")\n",
    "    print(\"\")\n",
    "    \n",
    "# ---------->>> Lower diamond <<<-----------\n",
    "\n",
    " # ----------> Incrementing <-----------\n",
    "for i in range(height-1,0,-1):\n",
    "    count =1\n",
    "    for j in range(height+1):\n",
    "        if j>= (height - i) + 1:\n",
    "            print(count,end=\" \")\n",
    "            count +=1\n",
    "        else:\n",
    "            print(\" \",end=\" \")\n",
    "    # -----> decrementing <---------\n",
    "    count -= 2    \n",
    "    for j in range(1,height):\n",
    "        if j<i:\n",
    "            print(count,end=\" \")\n",
    "            count +=1\n",
    "        else:\n",
    "            print(\" \",end=\" \")\n",
    "    print(\"\")"
   ]
  },
  {
   "cell_type": "markdown",
   "id": "3a6539d1",
   "metadata": {},
   "source": [
    "# Problem 30: Print a Cross Pattern of Stars with Diagonals\n",
    "* Difficulty: Hard\n",
    "* Topics: Pattern Printing\n",
    "* Hint: Print a cross pattern using stars with intersecting diagonals.\n",
    "* \n",
    "* Example 1: Input: n = 5\n",
    "* Output:\n",
    "\n",
    "```\n",
    "* * * * *\n",
    " * * * *\n",
    "  * * *\n",
    "   * *\n",
    "    *\n",
    "   * *\n",
    "  * * *\n",
    " * * * *\n",
    "* * * * *"
   ]
  },
  {
   "cell_type": "code",
   "execution_count": 32,
   "id": "804a7da7",
   "metadata": {},
   "outputs": [
    {
     "name": "stdout",
     "output_type": "stream",
     "text": [
      " *********\n",
      "  ******* \n",
      "   *****  \n",
      "    ***   \n",
      "     *    \n",
      "    ***   \n",
      "   *****  \n",
      "  ******* \n",
      " *********\n"
     ]
    }
   ],
   "source": [
    "height = int(input(\"enter the height\"))\n",
    "\n",
    "for i in range (height,0,-1):\n",
    "    for j in range (2*height):\n",
    "        if j >= height-i+1 and j <= height+i-1:\n",
    "            print(\"*\",end=\"\")\n",
    "        else:\n",
    "            print(\" \",end=\"\")\n",
    "    print(\"\")\n",
    "    \n",
    "for i in range (2,height+1):\n",
    "    for j in range (2*height):\n",
    "        if j >= height-i+1 and j <= height+i-1:\n",
    "            print(\"*\",end=\"\")\n",
    "        else:\n",
    "            print(\" \",end=\"\")\n",
    "    print(\"\")\n",
    "            "
   ]
  }
 ],
 "metadata": {
  "kernelspec": {
   "display_name": "Python 3",
   "language": "python",
   "name": "python3"
  },
  "language_info": {
   "codemirror_mode": {
    "name": "ipython",
    "version": 3
   },
   "file_extension": ".py",
   "mimetype": "text/x-python",
   "name": "python",
   "nbconvert_exporter": "python",
   "pygments_lexer": "ipython3",
   "version": "3.11.3"
  }
 },
 "nbformat": 4,
 "nbformat_minor": 5
}
